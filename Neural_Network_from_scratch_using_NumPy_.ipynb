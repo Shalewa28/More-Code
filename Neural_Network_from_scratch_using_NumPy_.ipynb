{
  "nbformat": 4,
  "nbformat_minor": 0,
  "metadata": {
    "colab": {
      "provenance": []
    },
    "kernelspec": {
      "name": "python3",
      "display_name": "Python 3"
    },
    "language_info": {
      "name": "python"
    }
  },
  "cells": [
    {
      "cell_type": "code",
      "source": [
        "import numpy as np\n",
        "\n",
        "# Sigmoid activation function and its derivative\n",
        "def sigmoid(x):\n",
        "    return 1 / (1 + np.exp(-x))\n",
        "\n",
        "def sigmoid_derivative(x):\n",
        "    return x * (1 - x)\n",
        "\n",
        "# Initialize dataset (X: inputs, y: outputs)\n",
        "X = np.array([[0, 0], [0, 1], [1, 0], [1, 1]])  # XOR inputs\n",
        "y = np.array([[0], [1], [1], [0]])  # XOR outputs\n",
        "\n",
        "# Initialize network parameters\n",
        "np.random.seed(42)\n",
        "input_size = 2\n",
        "hidden_size = 4\n",
        "output_size = 1\n",
        "\n",
        "# Weights and biases\n",
        "W1 = np.random.randn(input_size, hidden_size)\n",
        "b1 = np.zeros((1, hidden_size))\n",
        "W2 = np.random.randn(hidden_size, output_size)\n",
        "b2 = np.zeros((1, output_size))\n",
        "\n",
        "# Training parameters\n",
        "learning_rate = 0.5\n",
        "epochs = 10000\n",
        "\n",
        "# Training loop\n",
        "for epoch in range(epochs):\n",
        "    # Forward propagation\n",
        "    hidden_input = np.dot(X, W1) + b1\n",
        "    hidden_output = sigmoid(hidden_input)\n",
        "    final_input = np.dot(hidden_output, W2) + b2\n",
        "    final_output = sigmoid(final_input)\n",
        "\n",
        "    # Compute error\n",
        "    error = y - final_output\n",
        "\n",
        "    # Backpropagation\n",
        "    d_output = error * sigmoid_derivative(final_output)\n",
        "    d_hidden = np.dot(d_output, W2.T) * sigmoid_derivative(hidden_output)\n",
        "\n",
        "    # Update weights and biases\n",
        "    W2 += np.dot(hidden_output.T, d_output) * learning_rate\n",
        "    b2 += np.sum(d_output, axis=0, keepdims=True) * learning_rate\n",
        "    W1 += np.dot(X.T, d_hidden) * learning_rate\n",
        "    b1 += np.sum(d_hidden, axis=0, keepdims=True) * learning_rate\n",
        "\n",
        "    # Print loss occasionally\n",
        "    if epoch % 1000 == 0:\n",
        "        loss = np.mean(np.abs(error))\n",
        "        print(f'Epoch {epoch}, Loss: {loss:.4f}')\n",
        "\n",
        "# Final output after training\n",
        "print(\"\\nFinal Predictions:\")\n",
        "print(final_output)\n"
      ],
      "metadata": {
        "colab": {
          "base_uri": "https://localhost:8080/"
        },
        "id": "zUH8ETPyQuT4",
        "outputId": "e1ebdd04-6ddd-4d8b-cc80-ab85a51fad97"
      },
      "execution_count": 4,
      "outputs": [
        {
          "output_type": "stream",
          "name": "stdout",
          "text": [
            "Epoch 0, Loss: 0.5055\n",
            "Epoch 1000, Loss: 0.1429\n",
            "Epoch 2000, Loss: 0.0519\n",
            "Epoch 3000, Loss: 0.0349\n",
            "Epoch 4000, Loss: 0.0273\n",
            "Epoch 5000, Loss: 0.0229\n",
            "Epoch 6000, Loss: 0.0200\n",
            "Epoch 7000, Loss: 0.0179\n",
            "Epoch 8000, Loss: 0.0163\n",
            "Epoch 9000, Loss: 0.0150\n",
            "\n",
            "Final Predictions:\n",
            "[[0.01005453]\n",
            " [0.98713369]\n",
            " [0.98430639]\n",
            " [0.01738976]]\n"
          ]
        }
      ]
    }
  ]
}