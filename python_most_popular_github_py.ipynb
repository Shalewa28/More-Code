{
  "cells": [
    {
      "cell_type": "code",
      "source": [
        "import requests\n",
        "import plotly.graph_objs as go\n",
        "from plotly import offline\n",
        "\n",
        "# GitHub API request\n",
        "url = 'https://api.github.com/search/repositories?q=stars:>10000&sort=stars'\n",
        "headers = {'Accept': 'application/vnd.github.v3+json'}\n",
        "response = requests.get(url, headers=headers)\n",
        "response_dict = response.json()\n",
        "\n",
        "# Process results\n",
        "repo_dicts = response_dict['items']\n",
        "repo_links, stars, labels = [], [], []\n",
        "\n",
        "for repo_dict in repo_dicts[:10]:  # Top 10 Repositories\n",
        "    repo_name = repo_dict['name']\n",
        "    repo_url = repo_dict['html_url']\n",
        "    repo_links.append(f\"<a href='{repo_url}'>{repo_name}</a>\")\n",
        "    stars.append(repo_dict['stargazers_count'])\n",
        "    labels.append(f\"{repo_dict['owner']['login']}<br>{repo_dict['description']}\")\n",
        "\n",
        "# Create Visualization\n",
        "data = [go.Bar(x=repo_links, y=stars, hovertext=labels, marker=dict(color='blue'), opacity=0.7)]\n",
        "layout = go.Layout(title=\"Most-Starred GitHub Repositories\", xaxis=dict(title=\"Repository\"), yaxis=dict(title=\"Stars\"))\n",
        "\n",
        "fig = go.Figure(data=data, layout=layout)\n",
        "offline.plot(fig, filename='most_popular_github.html')\n"
      ],
      "metadata": {
        "colab": {
          "base_uri": "https://localhost:8080/",
          "height": 35
        },
        "id": "AqOFwNWHmzRX",
        "outputId": "43f14481-9833-4843-8d38-dd5122aa875b"
      },
      "id": "AqOFwNWHmzRX",
      "execution_count": 1,
      "outputs": [
        {
          "output_type": "execute_result",
          "data": {
            "text/plain": [
              "'most_popular_github.html'"
            ],
            "application/vnd.google.colaboratory.intrinsic+json": {
              "type": "string"
            }
          },
          "metadata": {},
          "execution_count": 1
        }
      ]
    }
  ],
  "metadata": {
    "kernelspec": {
      "display_name": "Python 3 (ipykernel)",
      "language": "python",
      "name": "python3"
    },
    "language_info": {
      "codemirror_mode": {
        "name": "ipython",
        "version": 3
      },
      "file_extension": ".py",
      "mimetype": "text/x-python",
      "name": "python",
      "nbconvert_exporter": "python",
      "pygments_lexer": "ipython3",
      "version": "3.10.16"
    },
    "colab": {
      "provenance": []
    }
  },
  "nbformat": 4,
  "nbformat_minor": 5
}